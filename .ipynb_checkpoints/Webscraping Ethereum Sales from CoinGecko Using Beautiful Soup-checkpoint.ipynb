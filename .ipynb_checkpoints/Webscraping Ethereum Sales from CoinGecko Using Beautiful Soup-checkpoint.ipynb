{
 "cells": [
  {
   "cell_type": "markdown",
   "metadata": {},
   "source": [
    "# Capstone Webscrapping using BeautifulSoup\n",
    "\n",
    "This notebook contains guidances & tasks on the data processing for the application\n",
    "\n",
    "## background\n",
    "\n",
    "(Please insert the background here )\n",
    "\n",
    "## Requesting the Data and Creating a BeautifulSoup\n",
    "\n",
    "Let's begin with requesting the web from the site with `get` method."
   ]
  },
  {
   "cell_type": "code",
   "execution_count": 1,
   "metadata": {
    "ExecuteTime": {
     "end_time": "2020-01-13T05:12:23.275508Z",
     "start_time": "2020-01-13T05:12:20.009898Z"
    }
   },
   "outputs": [],
   "source": [
    "import requests\n",
    "\n",
    "url_get = requests.get('https://www.coingecko.com/en/coins/ethereum/historical_data/usd?start_date=2020-01-01&end_date=2021-06-30#panel')"
   ]
  },
  {
   "cell_type": "markdown",
   "metadata": {},
   "source": [
    "To visualize what exactly you get from the `request.get`, we can use .content so ee what we exactly get, in here i slice it so it won't make our screen full of the html we get from the page. You can delete the slicing if you want to see what we fully get."
   ]
  },
  {
   "cell_type": "code",
   "execution_count": 2,
   "metadata": {
    "ExecuteTime": {
     "end_time": "2020-01-13T05:12:23.290648Z",
     "start_time": "2020-01-13T05:12:23.277650Z"
    }
   },
   "outputs": [
    {
     "data": {
      "text/plain": [
       "b'!DOCTYPE html>\\n<html lang=\"en\">\\n<head>\\n<meta charset=\"utf-8\">\\n<meta http-equiv=\"X-UA-Compatible\" content=\"IE=edge\">\\n<meta name=\"viewport\" content=\"width=device-width, initial-scale=1.0\">\\n<link rel=\"shortcut icon\" href=\"/favicon.ico\">\\n<link type=\"application/opensearchdescription+xml\" rel=\"search\" href=\"/OpensearchDescription.xml\" />\\n<title>Ethereum USD Historical Data | CoinGecko</title>\\n<meta name=\"description\" content=\"Get Ethereum (ETH) USD historical prices.\" />\\n\\n<link rel=\"preload\" href=\"h'"
      ]
     },
     "execution_count": 2,
     "metadata": {},
     "output_type": "execute_result"
    }
   ],
   "source": [
    "url_get.content[1:500]"
   ]
  },
  {
   "cell_type": "markdown",
   "metadata": {},
   "source": [
    "As we can see we get a very unstructured and complex html, which actually contains the codes needed to show the webpages on your web browser. But we as human still confused what and where we can use that piece of code, so here where we use the beautifulsoup. Beautiful soup class will result a beautifulsoup object. Beautiful Soup transforms a complex HTML document into a complex tree of Python objects. \n",
    "\n",
    "Let's make Beautiful soup object and feel free to explore the object here."
   ]
  },
  {
   "cell_type": "code",
   "execution_count": 4,
   "metadata": {
    "ExecuteTime": {
     "end_time": "2020-01-13T05:12:23.808122Z",
     "start_time": "2020-01-13T05:12:23.292610Z"
    }
   },
   "outputs": [
    {
     "name": "stdout",
     "output_type": "stream",
     "text": [
      "!DOCTYPE html>\n",
      "<html lang=\"en\">\n",
      " <head>\n",
      "  <meta charset=\"utf-8\"/>\n",
      "  <meta content=\"IE=edge\" http-equiv=\"X-UA-Compatible\"/>\n",
      "  <meta content=\"width=device-width, initial-scale=1.0\" name=\"viewport\"/>\n",
      "  <link href=\"/favicon.ico\" rel=\"shortcut icon\"/>\n",
      "  <link href=\"/OpensearchDescription.xml\" rel=\"search\" type=\"application/opensearchdescription+xml\">\n",
      "   <title>\n",
      "    Ethereum USD Historical Data | CoinGecko\n",
      "   </title>\n",
      "   <meta content=\"Get Ethereum (ETH) USD historical prices.\" name=\"description\">\n",
      "  \n"
     ]
    }
   ],
   "source": [
    "from bs4 import BeautifulSoup \n",
    "\n",
    "soup = BeautifulSoup(url_get.content,\"html.parser\")\n",
    "\n",
    "#Menggunakan method prettify untuk memperbaiki tampilan HTML dan hanya menampilkan 500 karakter\n",
    "print(soup.prettify()[1:500])"
   ]
  },
  {
   "cell_type": "markdown",
   "metadata": {},
   "source": [
    "## Finding the right key to scrap the data & Extracting the right information"
   ]
  },
  {
   "cell_type": "markdown",
   "metadata": {},
   "source": [
    "Find the key and put the key into the `.find()` Put all the exploring the right key at this cell. (please change this markdown with your explanation)"
   ]
  },
  {
   "cell_type": "code",
   "execution_count": 17,
   "metadata": {
    "ExecuteTime": {
     "end_time": "2020-01-13T05:12:23.878904Z",
     "start_time": "2020-01-13T05:12:23.854974Z"
    }
   },
   "outputs": [
    {
     "name": "stdout",
     "output_type": "stream",
     "text": [
      "table class=\"table table-striped text-sm text-lg-normal\">\n",
      " <thead>\n",
      "  <tr>\n",
      "   <th class=\"text-center\">\n",
      "    Date\n",
      "   </th>\n",
      "   <th class=\"text-center\">\n",
      "    Market Cap\n",
      "   </th>\n",
      "   <th class=\"text-center\">\n",
      "    Volume\n",
      "   </th>\n",
      "   <th class=\"text-center\">\n",
      "    Open\n",
      "   </th>\n",
      "   <th class=\"text-center\">\n",
      "    Close\n",
      "   </th>\n",
      "  </tr>\n",
      " </thead>\n",
      " <tbody>\n",
      "  <tr>\n",
      "   <th class=\"font-semibold text-center\" scope=\"row\">\n",
      "    2021-06-30\n",
      "   </th>\n",
      "   <td class=\"text-center\">\n",
      "    $253,607,549,372\n",
      "   </td>\n",
      "   <td class=\"text-center\">\n",
      "    $27,149,143,847\n",
      "   </td>\n",
      "   <td class=\"text-center\">\n",
      "    $2,169.40\n",
      "   </td>\n",
      "   <td class=\"text-center\">\n",
      "    N/A\n",
      "   </td>\n",
      "  </tr>\n",
      "  <tr>\n",
      "   <th class=\"font-semibold text-center\" scope=\"row\">\n",
      "    2021-06-29\n",
      "   </th>\n",
      "   <td class=\"text-center\">\n",
      "    $243,040,539,437\n",
      "   </td>\n",
      "   <td class=\"text-center\">\n",
      "    $30,629,329,806\n",
      "   </td>\n",
      "   <td class=\"text-center\">\n",
      "    $2,087.52\n",
      "   </td>\n",
      "   <td class=\"text-center\">\n",
      "    $2,169.40\n",
      "   </td>\n",
      "  </tr>\n",
      "  <tr>\n",
      "   <th class=\"font-semibold text-cente\n"
     ]
    }
   ],
   "source": [
    "table = soup.find('table', attrs={'class':\"table table-striped text-sm text-lg-normal\"})\n",
    "print(table.prettify()[1:1000])"
   ]
  },
  {
   "cell_type": "markdown",
   "metadata": {},
   "source": [
    "Finding row length."
   ]
  },
  {
   "cell_type": "code",
   "execution_count": 12,
   "metadata": {},
   "outputs": [
    {
     "data": {
      "text/plain": [
       "[<th class=\"font-semibold text-center\" scope=\"row\">2021-06-30</th>,\n",
       " <th class=\"font-semibold text-center\" scope=\"row\">2021-06-29</th>,\n",
       " <th class=\"font-semibold text-center\" scope=\"row\">2021-06-28</th>,\n",
       " <th class=\"font-semibold text-center\" scope=\"row\">2021-06-27</th>,\n",
       " <th class=\"font-semibold text-center\" scope=\"row\">2021-06-26</th>]"
      ]
     },
     "execution_count": 12,
     "metadata": {},
     "output_type": "execute_result"
    }
   ],
   "source": [
    "#Mengecek isi dari tag th dengan class font-semibold text-center\n",
    "table.find_all('th', attrs={'class':\"font-semibold text-center\"})[:5]"
   ]
  },
  {
   "cell_type": "code",
   "execution_count": 16,
   "metadata": {},
   "outputs": [
    {
     "data": {
      "text/plain": [
       "547"
      ]
     },
     "execution_count": 16,
     "metadata": {},
     "output_type": "execute_result"
    }
   ],
   "source": [
    "row = table.find_all('th', attrs={'class':\"font-semibold text-center\"})\n",
    "row_length = len(row)\n",
    "row_length"
   ]
  },
  {
   "cell_type": "code",
   "execution_count": 31,
   "metadata": {},
   "outputs": [
    {
     "data": {
      "text/plain": [
       "<th class=\"font-semibold text-center\" scope=\"row\">2020-01-01</th>"
      ]
     },
     "execution_count": 31,
     "metadata": {},
     "output_type": "execute_result"
    }
   ],
   "source": [
    "table.find_all('th', attrs={'class':\"font-semibold text-center\"})[546]"
   ]
  },
  {
   "cell_type": "code",
   "execution_count": 20,
   "metadata": {},
   "outputs": [
    {
     "data": {
      "text/plain": [
       "[<td class=\"text-center\">\n",
       " $253,607,549,372\n",
       " </td>, <td class=\"text-center\">\n",
       " $27,149,143,847\n",
       " </td>, <td class=\"text-center\">\n",
       " $2,169.40\n",
       " </td>, <td class=\"text-center\">\n",
       " N/A\n",
       " </td>, <td class=\"text-center\">\n",
       " $243,040,539,437\n",
       " </td>]"
      ]
     },
     "execution_count": 20,
     "metadata": {},
     "output_type": "execute_result"
    }
   ],
   "source": [
    "table.find_all('td', attrs={'class':\"text-center\"})[:5]"
   ]
  },
  {
   "cell_type": "markdown",
   "metadata": {},
   "source": [
    "Do the scrapping process here (please change this markdown with your explanation)"
   ]
  },
  {
   "cell_type": "code",
   "execution_count": 47,
   "metadata": {
    "ExecuteTime": {
     "end_time": "2020-01-13T05:12:24.008256Z",
     "start_time": "2020-01-13T05:12:23.980358Z"
    }
   },
   "outputs": [],
   "source": [
    "temp = [] #initiating a tuple\n",
    "\n",
    "for i in range(1, row_length):\n",
    "\n",
    "    #scrapping process\n",
    "    \n",
    "    #get date\n",
    "    Periode = table.find_all('th', attrs={'class':\"font-semibold text-center\"})[i].text\n",
    "    \n",
    "    #get market cap\n",
    "    Market_cap = table.find_all('td', attrs={'class':\"text-center\"})[i+(3*i)].text\n",
    "    Market_cap = Market_cap.strip() #Menghilangkan kelebihan spasi dan enter\n",
    "    \n",
    "    #get volume\n",
    "    Volume = table.find_all('td', attrs={'class':\"text-center\"})[i+1+(3*i)].text\n",
    "    Volume = Volume.strip()\n",
    "    \n",
    "    #get open\n",
    "    Open = table.find_all('td', attrs={'class':\"text-center\"})[i+2+(3*i)].text\n",
    "    Open = Open.strip()\n",
    "    \n",
    "    #get close\n",
    "    Close = table.find_all('td', attrs={'class':\"text-center\"})[i+3+(3*i)].text\n",
    "    Close = Close.strip()\n",
    "    \n",
    "    temp.append((Periode, Market_cap, Volume, Open, Close))"
   ]
  },
  {
   "cell_type": "code",
   "execution_count": 48,
   "metadata": {},
   "outputs": [
    {
     "data": {
      "text/plain": [
       "[('2020-01-01', '$14,097,451,632', '$7,103,187,151', '$129.19', '$130.48'),\n",
       " ('2020-01-02', '$14,230,588,104', '$6,623,732,041', '$130.48', '$127.05'),\n",
       " ('2020-01-03', '$13,859,793,330', '$6,497,297,884', '$127.05', '$133.70'),\n",
       " ('2020-01-04', '$14,613,194,776', '$9,655,245,100', '$133.70', '$134.14'),\n",
       " ('2020-01-05', '$14,636,213,160', '$6,958,393,690', '$134.14', '$135.01'),\n",
       " ('2020-01-06', '$14,738,834,254', '$7,260,645,128', '$135.01', '$143.81'),\n",
       " ('2020-01-07', '$15,692,578,635', '$9,514,201,882', '$143.81', '$143.02'),\n",
       " ('2020-01-08', '$15,656,491,188', '$9,440,938,788', '$143.02', '$140.27'),\n",
       " ('2020-01-09', '$15,364,547,562', '$10,095,847,759', '$140.27', '$137.86'),\n",
       " ('2020-01-10', '$14,998,595,868', '$7,280,640,218', '$137.86', '$144.60')]"
      ]
     },
     "execution_count": 48,
     "metadata": {},
     "output_type": "execute_result"
    }
   ],
   "source": [
    "temp = temp[::-1]\n",
    "temp[:10]"
   ]
  },
  {
   "cell_type": "markdown",
   "metadata": {},
   "source": [
    "## Creating data frame & Data wrangling"
   ]
  },
  {
   "cell_type": "markdown",
   "metadata": {},
   "source": [
    "Put the array into dataframe"
   ]
  },
  {
   "cell_type": "code",
   "execution_count": 86,
   "metadata": {
    "ExecuteTime": {
     "end_time": "2020-01-13T05:12:41.517372Z",
     "start_time": "2020-01-13T05:12:29.130015Z"
    }
   },
   "outputs": [
    {
     "data": {
      "text/html": [
       "<div>\n",
       "<style scoped>\n",
       "    .dataframe tbody tr th:only-of-type {\n",
       "        vertical-align: middle;\n",
       "    }\n",
       "\n",
       "    .dataframe tbody tr th {\n",
       "        vertical-align: top;\n",
       "    }\n",
       "\n",
       "    .dataframe thead th {\n",
       "        text-align: right;\n",
       "    }\n",
       "</style>\n",
       "<table border=\"1\" class=\"dataframe\">\n",
       "  <thead>\n",
       "    <tr style=\"text-align: right;\">\n",
       "      <th></th>\n",
       "      <th>date</th>\n",
       "      <th>market_cap</th>\n",
       "      <th>volume</th>\n",
       "      <th>open</th>\n",
       "      <th>close</th>\n",
       "    </tr>\n",
       "  </thead>\n",
       "  <tbody>\n",
       "    <tr>\n",
       "      <th>0</th>\n",
       "      <td>2020-01-01</td>\n",
       "      <td>$14,097,451,632</td>\n",
       "      <td>$7,103,187,151</td>\n",
       "      <td>$129.19</td>\n",
       "      <td>$130.48</td>\n",
       "    </tr>\n",
       "    <tr>\n",
       "      <th>1</th>\n",
       "      <td>2020-01-02</td>\n",
       "      <td>$14,230,588,104</td>\n",
       "      <td>$6,623,732,041</td>\n",
       "      <td>$130.48</td>\n",
       "      <td>$127.05</td>\n",
       "    </tr>\n",
       "    <tr>\n",
       "      <th>2</th>\n",
       "      <td>2020-01-03</td>\n",
       "      <td>$13,859,793,330</td>\n",
       "      <td>$6,497,297,884</td>\n",
       "      <td>$127.05</td>\n",
       "      <td>$133.70</td>\n",
       "    </tr>\n",
       "    <tr>\n",
       "      <th>3</th>\n",
       "      <td>2020-01-04</td>\n",
       "      <td>$14,613,194,776</td>\n",
       "      <td>$9,655,245,100</td>\n",
       "      <td>$133.70</td>\n",
       "      <td>$134.14</td>\n",
       "    </tr>\n",
       "    <tr>\n",
       "      <th>4</th>\n",
       "      <td>2020-01-05</td>\n",
       "      <td>$14,636,213,160</td>\n",
       "      <td>$6,958,393,690</td>\n",
       "      <td>$134.14</td>\n",
       "      <td>$135.01</td>\n",
       "    </tr>\n",
       "  </tbody>\n",
       "</table>\n",
       "</div>"
      ],
      "text/plain": [
       "         date       market_cap          volume     open    close\n",
       "0  2020-01-01  $14,097,451,632  $7,103,187,151  $129.19  $130.48\n",
       "1  2020-01-02  $14,230,588,104  $6,623,732,041  $130.48  $127.05\n",
       "2  2020-01-03  $13,859,793,330  $6,497,297,884  $127.05  $133.70\n",
       "3  2020-01-04  $14,613,194,776  $9,655,245,100  $133.70  $134.14\n",
       "4  2020-01-05  $14,636,213,160  $6,958,393,690  $134.14  $135.01"
      ]
     },
     "execution_count": 86,
     "metadata": {},
     "output_type": "execute_result"
    }
   ],
   "source": [
    "import pandas as pd\n",
    "\n",
    "#Setting untuk menghilangkan format data exponential\n",
    "pd.set_option('display.float_format', lambda x: '%.2f' % x)\n",
    "\n",
    "df = pd.DataFrame(temp, columns = ('date','market_cap','volume','open','close'))\n",
    "df.head()"
   ]
  },
  {
   "cell_type": "code",
   "execution_count": 87,
   "metadata": {},
   "outputs": [
    {
     "data": {
      "text/plain": [
       "date          object\n",
       "market_cap    object\n",
       "volume        object\n",
       "open          object\n",
       "close         object\n",
       "dtype: object"
      ]
     },
     "execution_count": 87,
     "metadata": {},
     "output_type": "execute_result"
    }
   ],
   "source": [
    "df.dtypes"
   ]
  },
  {
   "cell_type": "markdown",
   "metadata": {},
   "source": [
    "### Data Wrangling\n",
    "1. Melakukan perapihan penulisan pada setiap kolom seperti:\n",
    "    * Menghilangkan dollar sign \"$\"\n",
    "    * Menghilangkan tanda koma \",\"\n",
    "2. Melakukan konversi tipe data sesuai dengan jenis kolomnya yaitu:\n",
    "    * date: menjadi Datetime64\n",
    "    * market_cap menjadi float\n",
    "    * volume menjadi float\n",
    "    * open menjadi float\n",
    "    * close menjadi float"
   ]
  },
  {
   "cell_type": "code",
   "execution_count": 88,
   "metadata": {},
   "outputs": [
    {
     "data": {
      "text/html": [
       "<div>\n",
       "<style scoped>\n",
       "    .dataframe tbody tr th:only-of-type {\n",
       "        vertical-align: middle;\n",
       "    }\n",
       "\n",
       "    .dataframe tbody tr th {\n",
       "        vertical-align: top;\n",
       "    }\n",
       "\n",
       "    .dataframe thead th {\n",
       "        text-align: right;\n",
       "    }\n",
       "</style>\n",
       "<table border=\"1\" class=\"dataframe\">\n",
       "  <thead>\n",
       "    <tr style=\"text-align: right;\">\n",
       "      <th></th>\n",
       "      <th>date</th>\n",
       "      <th>market_cap</th>\n",
       "      <th>volume</th>\n",
       "      <th>open</th>\n",
       "      <th>close</th>\n",
       "    </tr>\n",
       "  </thead>\n",
       "  <tbody>\n",
       "    <tr>\n",
       "      <th>541</th>\n",
       "      <td>2021-06-25</td>\n",
       "      <td>231644258719.00</td>\n",
       "      <td>22447489242.00</td>\n",
       "      <td>1990.08</td>\n",
       "      <td>1833.46</td>\n",
       "    </tr>\n",
       "    <tr>\n",
       "      <th>542</th>\n",
       "      <td>2021-06-26</td>\n",
       "      <td>213871849532.00</td>\n",
       "      <td>25981381067.00</td>\n",
       "      <td>1833.46</td>\n",
       "      <td>1817.05</td>\n",
       "    </tr>\n",
       "    <tr>\n",
       "      <th>543</th>\n",
       "      <td>2021-06-27</td>\n",
       "      <td>209989265221.00</td>\n",
       "      <td>24249510321.00</td>\n",
       "      <td>1817.05</td>\n",
       "      <td>1973.93</td>\n",
       "    </tr>\n",
       "    <tr>\n",
       "      <th>544</th>\n",
       "      <td>2021-06-28</td>\n",
       "      <td>229354016311.00</td>\n",
       "      <td>24316408028.00</td>\n",
       "      <td>1973.93</td>\n",
       "      <td>2087.52</td>\n",
       "    </tr>\n",
       "    <tr>\n",
       "      <th>545</th>\n",
       "      <td>2021-06-29</td>\n",
       "      <td>243040539437.00</td>\n",
       "      <td>30629329806.00</td>\n",
       "      <td>2087.52</td>\n",
       "      <td>2169.40</td>\n",
       "    </tr>\n",
       "  </tbody>\n",
       "</table>\n",
       "</div>"
      ],
      "text/plain": [
       "          date      market_cap         volume    open   close\n",
       "541 2021-06-25 231644258719.00 22447489242.00 1990.08 1833.46\n",
       "542 2021-06-26 213871849532.00 25981381067.00 1833.46 1817.05\n",
       "543 2021-06-27 209989265221.00 24249510321.00 1817.05 1973.93\n",
       "544 2021-06-28 229354016311.00 24316408028.00 1973.93 2087.52\n",
       "545 2021-06-29 243040539437.00 30629329806.00 2087.52 2169.40"
      ]
     },
     "execution_count": 88,
     "metadata": {},
     "output_type": "execute_result"
    }
   ],
   "source": [
    "cols =['market_cap','volume','open','close']\n",
    "\n",
    "#Melakukan pembersihan data dengan menghilangkan dollar sign pada kolom market_cap, volume, open dan close serta konversi menjadi float\n",
    "df[cols] = df[cols].replace({'\\$':''}, regex = True)\n",
    "df[cols] = df[cols].replace({',':''}, regex = True)\n",
    "df[cols] = df[cols].astype('float64')\n",
    "\n",
    "#Melakukan konversi kolom date menjadi format tanggal\n",
    "df['date'] = df['date'].astype('datetime64')\n",
    "\n",
    "df.tail()"
   ]
  },
  {
   "cell_type": "code",
   "execution_count": 89,
   "metadata": {},
   "outputs": [
    {
     "data": {
      "text/plain": [
       "date          datetime64[ns]\n",
       "market_cap           float64\n",
       "volume               float64\n",
       "open                 float64\n",
       "close                float64\n",
       "dtype: object"
      ]
     },
     "execution_count": 89,
     "metadata": {},
     "output_type": "execute_result"
    }
   ],
   "source": [
    "df.dtypes"
   ]
  },
  {
   "cell_type": "code",
   "execution_count": 90,
   "metadata": {},
   "outputs": [],
   "source": [
    "df = df.set_index('date')"
   ]
  },
  {
   "cell_type": "markdown",
   "metadata": {},
   "source": [
    "### Data Visualization"
   ]
  },
  {
   "cell_type": "code",
   "execution_count": 91,
   "metadata": {},
   "outputs": [
    {
     "data": {
      "text/plain": [
       "<matplotlib.axes._subplots.AxesSubplot at 0x2505f3d9108>"
      ]
     },
     "execution_count": 91,
     "metadata": {},
     "output_type": "execute_result"
    },
    {
     "data": {
      "image/png": "[encoded data removed]",
      "text/plain": [
       "<Figure size 432x288 with 1 Axes>"
      ]
     },
     "metadata": {
      "needs_background": "light"
     },
     "output_type": "display_data"
    }
   ],
   "source": [
    "import matplotlib.pyplot as plt\n",
    "\n",
    "df.plot(y=['market_cap','volume'])"
   ]
  },
  {
   "cell_type": "code",
   "execution_count": 92,
   "metadata": {},
   "outputs": [
    {
     "data": {
      "text/plain": [
       "<matplotlib.axes._subplots.AxesSubplot at 0x2505f481788>"
      ]
     },
     "execution_count": 92,
     "metadata": {},
     "output_type": "execute_result"
    },
    {
     "data": {
      "image/png": "[encoded data removed]",
      "text/plain": [
       "<Figure size 432x288 with 1 Axes>"
      ]
     },
     "metadata": {
      "needs_background": "light"
     },
     "output_type": "display_data"
    }
   ],
   "source": [
    "df.plot(y=['open','close'])"
   ]
  },
  {
   "cell_type": "markdown",
   "metadata": {},
   "source": [
    "### Implementing your webscrapping to the flask dashboard\n",
    "\n",
    "- Copy paste all of your web scrapping process to the desired position on the `app.py`\n",
    "- Changing the title of the dasboard at `index.html`"
   ]
  },
  {
   "cell_type": "markdown",
   "metadata": {},
   "source": [
    "## Finishing This Notebook with Your Analysis and Conclusion\n",
    "\n",
    "First you can do start with making the data visualisation. "
   ]
  },
  {
   "cell_type": "code",
   "execution_count": null,
   "metadata": {
    "ExecuteTime": {
     "end_time": "2020-01-13T05:20:56.208237Z",
     "start_time": "2020-01-13T05:20:56.076043Z"
    }
   },
   "outputs": [],
   "source": []
  },
  {
   "cell_type": "markdown",
   "metadata": {},
   "source": [
    "\n",
    "(Put your analysis and conclusion here.)"
   ]
  },
  {
   "cell_type": "markdown",
   "metadata": {},
   "source": [
    "### Extra Challenge\n",
    "\n",
    "This will be not included to the scoring. \n",
    "\n",
    "- You can create additional analysis from the data.\n",
    "- Implement it to the dashboard with at `app.py` dan `index.html`."
   ]
  }
 ],
 "metadata": {
  "kernelspec": {
   "display_name": "olympus",
   "language": "python",
   "name": "olympus"
  },
  "language_info": {
   "codemirror_mode": {
    "name": "ipython",
    "version": 3
   },
   "file_extension": ".py",
   "mimetype": "text/x-python",
   "name": "python",
   "nbconvert_exporter": "python",
   "pygments_lexer": "ipython3",
   "version": "3.7.10"
  }
 },
 "nbformat": 4,
 "nbformat_minor": 2
}
